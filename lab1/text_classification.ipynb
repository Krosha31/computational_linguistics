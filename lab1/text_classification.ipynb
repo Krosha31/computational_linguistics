{
 "cells": [
  {
   "cell_type": "markdown",
   "id": "5eaa9c8a",
   "metadata": {},
   "source": [
    "# Работу выполнил:\n",
    "### студент 21ПМИ-2\n",
    "### Мальков Евгений Максимович"
   ]
  },
  {
   "cell_type": "markdown",
   "id": "091b88f0",
   "metadata": {},
   "source": [
    "Парсер лежит в отдельном файле под названием `parcer.py`. Так же присутсвуют два `.json` файла, в одном из которых(`articles_links.json`) лежит список статей с категориями и ссылками на них, а уже в файле `data.json` лежат сами распаршенные в нужный формат новости"
   ]
  },
  {
   "cell_type": "code",
   "execution_count": 113,
   "id": "59b73ad7",
   "metadata": {},
   "outputs": [],
   "source": [
    "import numpy as np\n",
    "import json\n",
    "import pandas as pd\n",
    "import re"
   ]
  },
  {
   "cell_type": "code",
   "execution_count": 114,
   "id": "c5c3e6fd",
   "metadata": {},
   "outputs": [],
   "source": [
    "with open(\"data.json\") as f:\n",
    "    data = pd.json_normalize(json.loads(f.read()))"
   ]
  },
  {
   "cell_type": "markdown",
   "id": "1700c8a1",
   "metadata": {},
   "source": [
    "Видим структуру собранного датасета и так же видим, что теги пустые. Я поздно заметил, что в выбранном мною источнике тегов нет и уже не стал переписывать парсер. Да и так же не понял зачем теги в целом были нужны, поэтому работа была выполнена без них"
   ]
  },
  {
   "cell_type": "code",
   "execution_count": 115,
   "id": "57a9df04",
   "metadata": {},
   "outputs": [
    {
     "data": {
      "text/html": [
       "<div>\n",
       "<style scoped>\n",
       "    .dataframe tbody tr th:only-of-type {\n",
       "        vertical-align: middle;\n",
       "    }\n",
       "\n",
       "    .dataframe tbody tr th {\n",
       "        vertical-align: top;\n",
       "    }\n",
       "\n",
       "    .dataframe thead th {\n",
       "        text-align: right;\n",
       "    }\n",
       "</style>\n",
       "<table border=\"1\" class=\"dataframe\">\n",
       "  <thead>\n",
       "    <tr style=\"text-align: right;\">\n",
       "      <th></th>\n",
       "      <th>article_id</th>\n",
       "      <th>title</th>\n",
       "      <th>category</th>\n",
       "      <th>tags</th>\n",
       "      <th>text</th>\n",
       "    </tr>\n",
       "  </thead>\n",
       "  <tbody>\n",
       "    <tr>\n",
       "      <th>0</th>\n",
       "      <td>https://lenta.ru/news/2025/02/04/okean/</td>\n",
       "      <td>Предсказано увеличение уровня Мирового океана ...</td>\n",
       "      <td>science</td>\n",
       "      <td>[]</td>\n",
       "      <td>Специалисты Даремского университета (Великобри...</td>\n",
       "    </tr>\n",
       "    <tr>\n",
       "      <th>1</th>\n",
       "      <td>https://lenta.ru/news/2025/02/03/otverstiya-ob...</td>\n",
       "      <td>Отверстия обнаружили на дне Атлантического океана</td>\n",
       "      <td>science</td>\n",
       "      <td>[]</td>\n",
       "      <td>Участники экспедиции Национального управления ...</td>\n",
       "    </tr>\n",
       "    <tr>\n",
       "      <th>2</th>\n",
       "      <td>https://lenta.ru/news/2025/01/30/heart-patch/</td>\n",
       "      <td>Пластырь из стволовых клеток использовали для ...</td>\n",
       "      <td>science</td>\n",
       "      <td>[]</td>\n",
       "      <td>Немецкие ученые успешно протестировали «сердеч...</td>\n",
       "    </tr>\n",
       "    <tr>\n",
       "      <th>3</th>\n",
       "      <td>https://lenta.ru/news/2025/01/25/roskosmos-pok...</td>\n",
       "      <td>«Роскосмос» показал фото крупнейшего в мире ай...</td>\n",
       "      <td>science</td>\n",
       "      <td>[]</td>\n",
       "      <td>Госкорпорация «Роскосмос» показала в своем Tel...</td>\n",
       "    </tr>\n",
       "    <tr>\n",
       "      <th>4</th>\n",
       "      <td>https://lenta.ru/news/2025/01/22/na-zapade-zay...</td>\n",
       "      <td>На Западе заявили о беззащитности авианосцев С...</td>\n",
       "      <td>science</td>\n",
       "      <td>[]</td>\n",
       "      <td>Российские гиперзвуковые ракеты «Орешник» обор...</td>\n",
       "    </tr>\n",
       "    <tr>\n",
       "      <th>...</th>\n",
       "      <td>...</td>\n",
       "      <td>...</td>\n",
       "      <td>...</td>\n",
       "      <td>...</td>\n",
       "      <td>...</td>\n",
       "    </tr>\n",
       "    <tr>\n",
       "      <th>4039</th>\n",
       "      <td>https://lenta.ru/news/2025/02/05/vivozi/</td>\n",
       "      <td>В России предложили способ борьбы с пустыми ва...</td>\n",
       "      <td>economics</td>\n",
       "      <td>[]</td>\n",
       "      <td>Для борьбы с порожними вагонами на припортовых...</td>\n",
       "    </tr>\n",
       "    <tr>\n",
       "      <th>4040</th>\n",
       "      <td>https://lenta.ru/news/2025/02/05/chto-to-ne-to/</td>\n",
       "      <td>В Центробанке рассказали об ускорении роста эк...</td>\n",
       "      <td>economics</td>\n",
       "      <td>[]</td>\n",
       "      <td>В конце прошлого года российская экономика не ...</td>\n",
       "    </tr>\n",
       "    <tr>\n",
       "      <th>4041</th>\n",
       "      <td>https://lenta.ru/news/2025/02/04/zhiteli-evrop...</td>\n",
       "      <td>Жители европейской страны начали массово выруб...</td>\n",
       "      <td>economics</td>\n",
       "      <td>[]</td>\n",
       "      <td>В Финляндии резко нарастили вырубку леса на фо...</td>\n",
       "    </tr>\n",
       "    <tr>\n",
       "      <th>4042</th>\n",
       "      <td>https://lenta.ru/news/2025/02/04/v-sosedney-s-...</td>\n",
       "      <td>В соседней с Россией стране ускорился рост цен</td>\n",
       "      <td>economics</td>\n",
       "      <td>[]</td>\n",
       "      <td>На фоне ускорившегося в Казахстане роста цен в...</td>\n",
       "    </tr>\n",
       "    <tr>\n",
       "      <th>4043</th>\n",
       "      <td>https://lenta.ru/news/2025/02/04/mishustin-ras...</td>\n",
       "      <td>Мишустин рассказал о координации работы с Банк...</td>\n",
       "      <td>economics</td>\n",
       "      <td>[]</td>\n",
       "      <td>Правительство РФ работает в координации с Банк...</td>\n",
       "    </tr>\n",
       "  </tbody>\n",
       "</table>\n",
       "<p>4044 rows × 5 columns</p>\n",
       "</div>"
      ],
      "text/plain": [
       "                                             article_id  \\\n",
       "0               https://lenta.ru/news/2025/02/04/okean/   \n",
       "1     https://lenta.ru/news/2025/02/03/otverstiya-ob...   \n",
       "2         https://lenta.ru/news/2025/01/30/heart-patch/   \n",
       "3     https://lenta.ru/news/2025/01/25/roskosmos-pok...   \n",
       "4     https://lenta.ru/news/2025/01/22/na-zapade-zay...   \n",
       "...                                                 ...   \n",
       "4039           https://lenta.ru/news/2025/02/05/vivozi/   \n",
       "4040    https://lenta.ru/news/2025/02/05/chto-to-ne-to/   \n",
       "4041  https://lenta.ru/news/2025/02/04/zhiteli-evrop...   \n",
       "4042  https://lenta.ru/news/2025/02/04/v-sosedney-s-...   \n",
       "4043  https://lenta.ru/news/2025/02/04/mishustin-ras...   \n",
       "\n",
       "                                                  title   category tags  \\\n",
       "0     Предсказано увеличение уровня Мирового океана ...    science   []   \n",
       "1     Отверстия обнаружили на дне Атлантического океана    science   []   \n",
       "2     Пластырь из стволовых клеток использовали для ...    science   []   \n",
       "3     «Роскосмос» показал фото крупнейшего в мире ай...    science   []   \n",
       "4     На Западе заявили о беззащитности авианосцев С...    science   []   \n",
       "...                                                 ...        ...  ...   \n",
       "4039  В России предложили способ борьбы с пустыми ва...  economics   []   \n",
       "4040  В Центробанке рассказали об ускорении роста эк...  economics   []   \n",
       "4041  Жители европейской страны начали массово выруб...  economics   []   \n",
       "4042     В соседней с Россией стране ускорился рост цен  economics   []   \n",
       "4043  Мишустин рассказал о координации работы с Банк...  economics   []   \n",
       "\n",
       "                                                   text  \n",
       "0     Специалисты Даремского университета (Великобри...  \n",
       "1     Участники экспедиции Национального управления ...  \n",
       "2     Немецкие ученые успешно протестировали «сердеч...  \n",
       "3     Госкорпорация «Роскосмос» показала в своем Tel...  \n",
       "4     Российские гиперзвуковые ракеты «Орешник» обор...  \n",
       "...                                                 ...  \n",
       "4039  Для борьбы с порожними вагонами на припортовых...  \n",
       "4040  В конце прошлого года российская экономика не ...  \n",
       "4041  В Финляндии резко нарастили вырубку леса на фо...  \n",
       "4042  На фоне ускорившегося в Казахстане роста цен в...  \n",
       "4043  Правительство РФ работает в координации с Банк...  \n",
       "\n",
       "[4044 rows x 5 columns]"
      ]
     },
     "execution_count": 115,
     "metadata": {},
     "output_type": "execute_result"
    }
   ],
   "source": [
    "data"
   ]
  },
  {
   "cell_type": "markdown",
   "id": "188120ed",
   "metadata": {},
   "source": [
    "# Предобработка текста"
   ]
  },
  {
   "cell_type": "markdown",
   "id": "3b81fded",
   "metadata": {},
   "source": [
    "#### Смотрим на пример текста и попробуем обработать его так, чтобы получилась конфетка:"
   ]
  },
  {
   "cell_type": "code",
   "execution_count": 116,
   "id": "bdd5fc0f",
   "metadata": {},
   "outputs": [
    {
     "data": {
      "text/plain": [
       "'Специалисты Даремского университета (Великобритания) рассказали о серьезных последствиях для всего мира из-за изменения климата. Слова ученых передает газета The Guardian. Опубликованное в журнале Nature исследование показало что ледяной щит Гренландии разрушается быстрее чем когда-либо прежде — это происходит из-за изменения климата. Оказалось что трещины в ледниках заметно увеличились в размерах за последние пять лет. Специалисты пришли к этому выводу на основе изучения 8000 трехмерных карт поверхности. «Несколько наших крупномасштабных моделей не смогли объяснить многое из того что мы называем динамической нестабильностью» — заметил автор исследования доктор Том Чадли. Специалисты предсказали что из-за динамической нестабильности уровень Мирового океана может увеличиться на один метр к 2100 году или на 10 метров к 2300 году. По словам Чадли больше всего ученых удивило как быстро образовывались трещины. Так одно из предыдущих исследований показало изменения которые произошли за пять лет в масштабе десятилетий. «Мы уже несколько лет знаем что разрушение ледяного покрова значительно ускорилось с 1990 года и в целом мы понимаем что это связано с потеплением океана» — подчеркнул специалист. Гренландия с 1992 года находится в зоне повышения уровня моря примерно на 14 миллиметров. Ученые полагают что это связано с усилением таяния льда в ответ на более жаркую погоду вызванную изменениями климата. В конце ноября ученые из Льежского университета в Бельгии предсказали что таяние ледников Гренландии значительно ускорится к концу XXI века. Это может привести к повышению уровня Мирового океана до одного метра что ставит под угрозу миллионы людей живущих в прибрежных районах.'"
      ]
     },
     "execution_count": 116,
     "metadata": {},
     "output_type": "execute_result"
    }
   ],
   "source": [
    "data[\"text\"][0]"
   ]
  },
  {
   "cell_type": "markdown",
   "id": "2948152a",
   "metadata": {},
   "source": [
    "## Удаляем все символы, кроме кириллицы и латиницы"
   ]
  },
  {
   "cell_type": "code",
   "execution_count": 117,
   "id": "c472dc88",
   "metadata": {},
   "outputs": [],
   "source": [
    "data[\"text\"] = data[\"text\"].apply(lambda text: \" \".join(re.sub(r'[^а-яА-Яa-zA-Z\\s]', ' ', text).lower().split()))"
   ]
  },
  {
   "cell_type": "code",
   "execution_count": 118,
   "id": "3bc01050",
   "metadata": {},
   "outputs": [
    {
     "data": {
      "text/plain": [
       "'специалисты даремского университета великобритания рассказали о серьезных последствиях для всего мира из за изменения климата слова ученых передает газета the guardian опубликованное в журнале nature исследование показало что ледяной щит гренландии разрушается быстрее чем когда либо прежде это происходит из за изменения климата оказалось что трещины в ледниках заметно увеличились в размерах за последние пять лет специалисты пришли к этому выводу на основе изучения трехмерных карт поверхности несколько наших крупномасштабных моделей не смогли объяснить многое из того что мы называем динамической нестабильностью заметил автор исследования доктор том чадли специалисты предсказали что из за динамической нестабильности уровень мирового океана может увеличиться на один метр к году или на метров к году по словам чадли больше всего ученых удивило как быстро образовывались трещины так одно из предыдущих исследований показало изменения которые произошли за пять лет в масштабе десятилетий мы уже несколько лет знаем что разрушение ледяного покрова значительно ускорилось с года и в целом мы понимаем что это связано с потеплением океана подчеркнул специалист гренландия с года находится в зоне повышения уровня моря примерно на миллиметров ученые полагают что это связано с усилением таяния льда в ответ на более жаркую погоду вызванную изменениями климата в конце ноября ученые из льежского университета в бельгии предсказали что таяние ледников гренландии значительно ускорится к концу xxi века это может привести к повышению уровня мирового океана до одного метра что ставит под угрозу миллионы людей живущих в прибрежных районах'"
      ]
     },
     "execution_count": 118,
     "metadata": {},
     "output_type": "execute_result"
    }
   ],
   "source": [
    "data[\"text\"][0]"
   ]
  },
  {
   "cell_type": "markdown",
   "id": "fedfb87c",
   "metadata": {},
   "source": [
    " ## Лемматизируем текст"
   ]
  },
  {
   "cell_type": "markdown",
   "id": "7e2a466e",
   "metadata": {},
   "source": [
    "#### лемматизация проводилась только для русских слов, так как английских слов в текстах крайне мало и чаще всего они встречаются в одной единственной форме, что нас устраивает\n"
   ]
  },
  {
   "cell_type": "code",
   "execution_count": 119,
   "id": "4c9f75d5",
   "metadata": {},
   "outputs": [
    {
     "data": {
      "text/plain": [
       "'специалист даремский университет великобритания рассказать о серьёзный последствие для весь мир из за изменение климат слово учёный передавать газета the guardian опубликовать в журнал nature исследование показать что ледяной щит гренландия разрушаться быстрый чем когда либо прежде это происходить из за изменение климат оказаться что трещина в ледник заметно увеличиться в размер за последний пять год специалист прислать к этот вывод на основа изучение трёхмерный карта поверхность несколько наш крупномасштабный модель не смочь объяснить многое из тот что мы называть динамический нестабильность заметить автор исследование доктор тот чадли специалист предсказать что из за динамический нестабильность уровень мировой океан мочь увеличиться на один метр к год или на метр к год по слово чадли большой весь учёный удивить как быстро образовываться трещина так один из предыдущий исследование показать изменение который произойти за пять год в масштаб десятилетие мы уже несколько год знать что разрушение ледяной покров значительно ускориться с год и в целое мы понимать что это связать с потепление океан подчеркнуть специалист гренландия с год находиться в зона повышение уровень море примерно на миллиметр учёный полагать что это связать с усиление таяние лёд в ответ на более жаркий погода вызвать изменение климат в конец ноябрь учёный из льежский университет в бельгия предсказать что таяние ледник гренландия значительно ускориться к конец xxi век это мочь привести к повышение уровень мировой океан до один метр что ставить под угроза миллион человек жить в прибрежный район'"
      ]
     },
     "execution_count": 119,
     "metadata": {},
     "output_type": "execute_result"
    }
   ],
   "source": [
    "import pymorphy2\n",
    "\n",
    "morph = pymorphy2.MorphAnalyzer()\n",
    "\n",
    "def lemmatize_text(text):\n",
    "    words = text.split()\n",
    "    lemmatized_words = [morph.parse(word)[0].normal_form for word in words]\n",
    "    lemmatized_text = ' '.join(lemmatized_words)\n",
    "    return lemmatized_text\n",
    "\n",
    "\n",
    "data[\"text\"] = data[\"text\"].apply(lemmatize_text)\n",
    "data[\"text\"][0]"
   ]
  },
  {
   "cell_type": "code",
   "execution_count": 120,
   "id": "338dda14",
   "metadata": {},
   "outputs": [],
   "source": [
    "reserve_copy_pymorphy = data.copy()"
   ]
  },
  {
   "cell_type": "code",
   "execution_count": 124,
   "id": "34ff9862",
   "metadata": {},
   "outputs": [],
   "source": [
    "data = reserve_copy_pymorphy.copy()"
   ]
  },
  {
   "cell_type": "code",
   "execution_count": 125,
   "id": "6499fc4c",
   "metadata": {
    "scrolled": true
   },
   "outputs": [
    {
     "name": "stderr",
     "output_type": "stream",
     "text": [
      "[nltk_data] Downloading package stopwords to /home/krosha/nltk_data...\n",
      "[nltk_data]   Package stopwords is already up-to-date!\n"
     ]
    },
    {
     "data": {
      "text/plain": [
       "'специалист даремский университет великобритания рассказать серьёзный последствие весь мир изменение климат слово учёный передавать газета the guardian опубликовать журнал nature исследование показать ледяной щит гренландия разрушаться быстрый либо прежде это происходить изменение климат оказаться трещина ледник заметно увеличиться размер последний пять год специалист прислать вывод основа изучение трёхмерный карта поверхность несколько наш крупномасштабный модель смочь объяснить многое называть динамический нестабильность заметить автор исследование доктор чадли специалист предсказать динамический нестабильность уровень мировой океан мочь увеличиться метр год метр год слово чадли большой весь учёный удивить быстро образовываться трещина предыдущий исследование показать изменение который произойти пять год масштаб десятилетие несколько год знать разрушение ледяной покров значительно ускориться год целое понимать это связать потепление океан подчеркнуть специалист гренландия год находиться зона повышение уровень море примерно миллиметр учёный полагать это связать усиление таяние лёд ответ жаркий погода вызвать изменение климат конец ноябрь учёный льежский университет бельгия предсказать таяние ледник гренландия значительно ускориться конец xxi век это мочь привести повышение уровень мировой океан метр ставить угроза миллион человек жить прибрежный район'"
      ]
     },
     "execution_count": 125,
     "metadata": {},
     "output_type": "execute_result"
    }
   ],
   "source": [
    "import nltk\n",
    "from nltk.corpus import stopwords\n",
    "\n",
    "nltk.download('stopwords')\n",
    "stop_words = set(stopwords.words('russian'))\n",
    "\n",
    "def delete_stop_words(text):\n",
    "    return \" \".join([word for word in text.split() if word not in stop_words])\n",
    "\n",
    "data[\"text\"] = data[\"text\"].apply(delete_stop_words)\n",
    "data[\"text\"][0]"
   ]
  },
  {
   "cell_type": "code",
   "execution_count": 126,
   "id": "f00a32d9",
   "metadata": {},
   "outputs": [
    {
     "data": {
      "image/png": "[encoded data removed]",
      "text/plain": [
       "<Figure size 1080x720 with 4 Axes>"
      ]
     },
     "metadata": {
      "needs_background": "light"
     },
     "output_type": "display_data"
    }
   ],
   "source": [
    "import matplotlib.pyplot as plt\n",
    "import seaborn as sns\n",
    "from sklearn.feature_extraction.text import CountVectorizer\n",
    "\n",
    "\n",
    "vectorizer = CountVectorizer()\n",
    "\n",
    "category_tokens = {}\n",
    "\n",
    "for category, group in data.groupby('category'):\n",
    "    X = vectorizer.fit_transform(group['text'])\n",
    "    token_counts = X.toarray().sum(axis=0)\n",
    "    tokens_data = pd.DataFrame(token_counts, index=vectorizer.get_feature_names_out(), columns=['count'])\n",
    "    category_tokens[category] = tokens_data.sort_values(by='count', ascending=False)\n",
    "\n",
    "plt.figure(figsize=(15, 10))\n",
    "\n",
    "for i, (category, tokens_data) in enumerate(category_tokens.items()):\n",
    "    plt.subplot(2, 2, i + 1)\n",
    "    sns.barplot(x=tokens_data['count'][:10].index, y=tokens_data['count'][:10].values)\n",
    "    plt.title(f'Top Tokens in Category {category}')\n",
    "    plt.xlabel('Tokens')\n",
    "    plt.ylabel('Count')\n",
    "    plt.xticks(rotation=45)\n",
    "\n",
    "plt.tight_layout()\n",
    "plt.show()"
   ]
  },
  {
   "cell_type": "code",
   "execution_count": 127,
   "id": "34fdc245",
   "metadata": {},
   "outputs": [
    {
     "data": {
      "text/html": [
       "<div>\n",
       "<style scoped>\n",
       "    .dataframe tbody tr th:only-of-type {\n",
       "        vertical-align: middle;\n",
       "    }\n",
       "\n",
       "    .dataframe tbody tr th {\n",
       "        vertical-align: top;\n",
       "    }\n",
       "\n",
       "    .dataframe thead th {\n",
       "        text-align: right;\n",
       "    }\n",
       "</style>\n",
       "<table border=\"1\" class=\"dataframe\">\n",
       "  <thead>\n",
       "    <tr style=\"text-align: right;\">\n",
       "      <th></th>\n",
       "      <th>title</th>\n",
       "      <th>tags</th>\n",
       "      <th>text</th>\n",
       "    </tr>\n",
       "  </thead>\n",
       "  <tbody>\n",
       "    <tr>\n",
       "      <th>0</th>\n",
       "      <td>Предсказано увеличение уровня Мирового океана ...</td>\n",
       "      <td>[]</td>\n",
       "      <td>специалист даремский университет великобритани...</td>\n",
       "    </tr>\n",
       "    <tr>\n",
       "      <th>1</th>\n",
       "      <td>Отверстия обнаружили на дне Атлантического океана</td>\n",
       "      <td>[]</td>\n",
       "      <td>участник экспедиция национальный управление ок...</td>\n",
       "    </tr>\n",
       "    <tr>\n",
       "      <th>2</th>\n",
       "      <td>Пластырь из стволовых клеток использовали для ...</td>\n",
       "      <td>[]</td>\n",
       "      <td>немецкий учёный успешно протестировать сердечн...</td>\n",
       "    </tr>\n",
       "    <tr>\n",
       "      <th>3</th>\n",
       "      <td>«Роскосмос» показал фото крупнейшего в мире ай...</td>\n",
       "      <td>[]</td>\n",
       "      <td>госкорпорация роскосмос показать свой telegram...</td>\n",
       "    </tr>\n",
       "    <tr>\n",
       "      <th>4</th>\n",
       "      <td>На Западе заявили о беззащитности авианосцев С...</td>\n",
       "      <td>[]</td>\n",
       "      <td>российский гиперзвуковой ракета орешник оборуд...</td>\n",
       "    </tr>\n",
       "    <tr>\n",
       "      <th>...</th>\n",
       "      <td>...</td>\n",
       "      <td>...</td>\n",
       "      <td>...</td>\n",
       "    </tr>\n",
       "    <tr>\n",
       "      <th>4039</th>\n",
       "      <td>В России предложили способ борьбы с пустыми ва...</td>\n",
       "      <td>[]</td>\n",
       "      <td>борьба порожний вагон припортовый станция минт...</td>\n",
       "    </tr>\n",
       "    <tr>\n",
       "      <th>4040</th>\n",
       "      <td>В Центробанке рассказали об ускорении роста эк...</td>\n",
       "      <td>[]</td>\n",
       "      <td>конец прошлое год российский экономика замедля...</td>\n",
       "    </tr>\n",
       "    <tr>\n",
       "      <th>4041</th>\n",
       "      <td>Жители европейской страны начали массово выруб...</td>\n",
       "      <td>[]</td>\n",
       "      <td>финляндия резко нарастить вырубка лес фон дефи...</td>\n",
       "    </tr>\n",
       "    <tr>\n",
       "      <th>4042</th>\n",
       "      <td>В соседней с Россией стране ускорился рост цен</td>\n",
       "      <td>[]</td>\n",
       "      <td>фон ускориться казахстан рост цена страна потр...</td>\n",
       "    </tr>\n",
       "    <tr>\n",
       "      <th>4043</th>\n",
       "      <td>Мишустин рассказал о координации работы с Банк...</td>\n",
       "      <td>[]</td>\n",
       "      <td>правительство рф работать координация банк рос...</td>\n",
       "    </tr>\n",
       "  </tbody>\n",
       "</table>\n",
       "<p>4044 rows × 3 columns</p>\n",
       "</div>"
      ],
      "text/plain": [
       "                                                  title tags  \\\n",
       "0     Предсказано увеличение уровня Мирового океана ...   []   \n",
       "1     Отверстия обнаружили на дне Атлантического океана   []   \n",
       "2     Пластырь из стволовых клеток использовали для ...   []   \n",
       "3     «Роскосмос» показал фото крупнейшего в мире ай...   []   \n",
       "4     На Западе заявили о беззащитности авианосцев С...   []   \n",
       "...                                                 ...  ...   \n",
       "4039  В России предложили способ борьбы с пустыми ва...   []   \n",
       "4040  В Центробанке рассказали об ускорении роста эк...   []   \n",
       "4041  Жители европейской страны начали массово выруб...   []   \n",
       "4042     В соседней с Россией стране ускорился рост цен   []   \n",
       "4043  Мишустин рассказал о координации работы с Банк...   []   \n",
       "\n",
       "                                                   text  \n",
       "0     специалист даремский университет великобритани...  \n",
       "1     участник экспедиция национальный управление ок...  \n",
       "2     немецкий учёный успешно протестировать сердечн...  \n",
       "3     госкорпорация роскосмос показать свой telegram...  \n",
       "4     российский гиперзвуковой ракета орешник оборуд...  \n",
       "...                                                 ...  \n",
       "4039  борьба порожний вагон припортовый станция минт...  \n",
       "4040  конец прошлое год российский экономика замедля...  \n",
       "4041  финляндия резко нарастить вырубка лес фон дефи...  \n",
       "4042  фон ускориться казахстан рост цена страна потр...  \n",
       "4043  правительство рф работать координация банк рос...  \n",
       "\n",
       "[4044 rows x 3 columns]"
      ]
     },
     "execution_count": 127,
     "metadata": {},
     "output_type": "execute_result"
    }
   ],
   "source": [
    "y = data[\"category\"]\n",
    "\n",
    "data = data.drop([\"article_id\", \"category\"], axis=1)\n",
    "data"
   ]
  },
  {
   "cell_type": "code",
   "execution_count": 128,
   "id": "9efd7863",
   "metadata": {},
   "outputs": [
    {
     "data": {
      "text/plain": [
       "0         science\n",
       "1         science\n",
       "2         science\n",
       "3         science\n",
       "4         science\n",
       "          ...    \n",
       "4039    economics\n",
       "4040    economics\n",
       "4041    economics\n",
       "4042    economics\n",
       "4043    economics\n",
       "Name: category, Length: 4044, dtype: object"
      ]
     },
     "execution_count": 128,
     "metadata": {},
     "output_type": "execute_result"
    }
   ],
   "source": [
    "y"
   ]
  },
  {
   "cell_type": "code",
   "execution_count": 129,
   "id": "f89b3024",
   "metadata": {},
   "outputs": [
    {
     "data": {
      "text/plain": [
       "array([3, 3, 3, ..., 0, 0, 0])"
      ]
     },
     "execution_count": 129,
     "metadata": {},
     "output_type": "execute_result"
    }
   ],
   "source": [
    "from sklearn.preprocessing import LabelEncoder\n",
    "\n",
    "label_encoder = LabelEncoder()\n",
    "y = label_encoder.fit_transform(y)\n",
    "y"
   ]
  },
  {
   "cell_type": "code",
   "execution_count": 131,
   "id": "3e8595e9",
   "metadata": {},
   "outputs": [],
   "source": [
    "label_to_category = {\n",
    "    0: \"economics\",\n",
    "    1: \"football\",\n",
    "    2: \"history\",\n",
    "    3: \"science\"\n",
    "}\n",
    "\n",
    "def get_category(label: int) -> str:\n",
    "    return label_to_category[label]"
   ]
  },
  {
   "cell_type": "code",
   "execution_count": 65,
   "id": "e08691ae",
   "metadata": {},
   "outputs": [],
   "source": [
    "from sklearn.model_selection import train_test_split\n",
    "\n",
    "\n",
    "X_train, X_test, y_train, y_test = train_test_split(data, y, test_size=0.25)"
   ]
  },
  {
   "cell_type": "code",
   "execution_count": 66,
   "id": "b1e13073",
   "metadata": {},
   "outputs": [
    {
     "name": "stdout",
     "output_type": "stream",
     "text": [
      "  (0, 11194)\t0.10188770496577998\n",
      "  (0, 7336)\t0.0888972845714289\n",
      "  (0, 9383)\t0.06429130927189068\n",
      "  (0, 3208)\t0.07948587260898707\n",
      "  (0, 3692)\t0.0770379361178371\n",
      "  (0, 7647)\t0.08064760610238127\n",
      "  (0, 9493)\t0.05725852221359415\n",
      "  (0, 8557)\t0.03577647517900226\n",
      "  (0, 2561)\t0.04449043759990722\n",
      "  (0, 8400)\t0.04181315119348417\n",
      "  (0, 6690)\t0.08232479137390764\n",
      "  (0, 7334)\t0.06502487927822173\n",
      "  (0, 6057)\t0.09942767137407071\n",
      "  (0, 8747)\t0.03958570902268735\n",
      "  (0, 5429)\t0.09942767137407071\n",
      "  (0, 1740)\t0.05906903843141439\n",
      "  (0, 7492)\t0.0680071660425959\n",
      "  (0, 10001)\t0.09726660692622228\n",
      "  (0, 9533)\t0.09360101353113351\n",
      "  (0, 5344)\t0.05786034983125278\n",
      "  (0, 5816)\t0.08954488071412024\n",
      "  (0, 841)\t0.05747502252596476\n",
      "  (0, 8598)\t0.06290904334147814\n",
      "  (0, 7533)\t0.053842386160129894\n",
      "  (0, 1716)\t0.07787409589154103\n",
      "  :\t:\n",
      "  (0, 3634)\t0.059009582845833554\n",
      "  (0, 8264)\t0.04402385375378278\n",
      "  (0, 11158)\t0.04641932283252771\n",
      "  (0, 809)\t0.20377540993155996\n",
      "  (0, 1108)\t0.20123048020126866\n",
      "  (0, 11064)\t0.18043384028640153\n",
      "  (0, 1085)\t0.1777945691428578\n",
      "  (0, 1326)\t0.08005726702297171\n",
      "  (0, 6672)\t0.04036004542524237\n",
      "  (0, 5970)\t0.5278080986872566\n",
      "  (0, 6209)\t0.09091532068936564\n",
      "  (0, 7333)\t0.14541721444569747\n",
      "  (0, 6396)\t0.0977827860049946\n",
      "  (0, 7572)\t0.20123048020126866\n",
      "  (0, 7506)\t0.20377540993155996\n",
      "  (0, 578)\t0.20377540993155996\n",
      "  (0, 4151)\t0.12270696296646404\n",
      "  (0, 5635)\t0.1497724186747927\n",
      "  (0, 3340)\t0.06442678895426202\n",
      "  (0, 4633)\t0.30372032646926594\n",
      "  (0, 843)\t0.06374094087444561\n",
      "  (0, 8549)\t0.10124010882308863\n",
      "  (0, 2406)\t0.08299683080298814\n",
      "  (0, 2751)\t0.05447518634738881\n",
      "  (0, 2216)\t0.06820502287082601\n"
     ]
    }
   ],
   "source": [
    "from sklearn.feature_extraction.text import TfidfVectorizer\n",
    "\n",
    "tfidf = TfidfVectorizer()\n",
    "tf_train = tfidf.fit_transform(X_train[\"text\"])\n",
    "tf_test = tfidf_vect.transform(X_test[\"text\"])\n",
    "print(tf_train[0])"
   ]
  },
  {
   "cell_type": "code",
   "execution_count": 93,
   "id": "b8d34c61",
   "metadata": {},
   "outputs": [],
   "source": [
    "from sklearn.model_selection import GridSearchCV\n",
    "from sklearn.linear_model import LogisticRegression\n",
    "from sklearn.ensemble import RandomForestClassifier, GradientBoostingClassifier\n",
    "from sklearn.svm import SVC\n",
    "from sklearn.neighbors import KNeighborsClassifier\n",
    "from sklearn.metrics import classification_report\n",
    "\n",
    "\n",
    "models = {\n",
    "    'Logistic Regression': LogisticRegression(max_iter=1000),\n",
    "    'Random Forest': RandomForestClassifier(),\n",
    "#     'SVM': SVC(),\n",
    "#     'KNeighbors': KNeighborsClassifier(),\n",
    "#     'Gradient Boosting': GradientBoostingClassifier()\n",
    "}"
   ]
  },
  {
   "cell_type": "code",
   "execution_count": 94,
   "id": "1a9425d9",
   "metadata": {},
   "outputs": [],
   "source": [
    "param_grids = {\n",
    "    'Logistic Regression': {\n",
    "        'C': [0.01, 0.1, 1, 10, 100],\n",
    "        'solver': ['liblinear', 'saga']\n",
    "    },\n",
    "    'Random Forest': {\n",
    "        'n_estimators': [50, 100, 200],\n",
    "        'max_depth': [None, 10, 20, 30]\n",
    "    },\n",
    "    'SVM': {\n",
    "        'C': [0.01, 0.1, 1, 10, 100],\n",
    "        'kernel': ['linear', 'rbf']\n",
    "    },\n",
    "    'KNeighbors': {\n",
    "        'n_neighbors': [3, 5, 7, 9],\n",
    "        'weights': ['uniform', 'distance']\n",
    "    },\n",
    "    'Gradient Boosting': {\n",
    "        'n_estimators': [50, 100, 200],\n",
    "        'learning_rate': [0.01, 0.1, 0.2],\n",
    "        'max_depth': [3, 5, 7]\n",
    "    }\n",
    "}"
   ]
  },
  {
   "cell_type": "code",
   "execution_count": 95,
   "id": "ec692cbb",
   "metadata": {},
   "outputs": [
    {
     "name": "stdout",
     "output_type": "stream",
     "text": [
      "Training Logistic Regression...\n",
      "Training Random Forest...\n"
     ]
    }
   ],
   "source": [
    "results = {}\n",
    "best_models = {}\n",
    "\n",
    "for model_name, model in models.items():\n",
    "    print(f\"Training {model_name}...\")\n",
    "    grid_search = GridSearchCV(model, param_grids[model_name], cv=5, scoring='accuracy', n_jobs=-1, return_train_score=True)\n",
    "    grid_search.fit(tf_train, y_train)\n",
    "    \n",
    "    results[model_name] = grid_search.cv_results_\n",
    "    best_models[model_name] = grid_search.best_estimator_\n"
   ]
  },
  {
   "cell_type": "code",
   "execution_count": 84,
   "id": "b17a1012",
   "metadata": {},
   "outputs": [
    {
     "name": "stdout",
     "output_type": "stream",
     "text": [
      "\n",
      "Classification report for Logistic Regression:\n",
      "              precision    recall  f1-score   support\n",
      "\n",
      "           0       1.00      1.00      1.00       253\n",
      "           1       1.00      1.00      1.00       240\n",
      "           2       0.98      0.98      0.98       267\n",
      "           3       0.98      0.98      0.98       251\n",
      "\n",
      "    accuracy                           0.99      1011\n",
      "   macro avg       0.99      0.99      0.99      1011\n",
      "weighted avg       0.99      0.99      0.99      1011\n",
      "\n"
     ]
    }
   ],
   "source": []
  },
  {
   "cell_type": "code",
   "execution_count": 96,
   "id": "f3c871f4",
   "metadata": {},
   "outputs": [],
   "source": []
  },
  {
   "cell_type": "code",
   "execution_count": 140,
   "id": "3bbbde7a",
   "metadata": {},
   "outputs": [
    {
     "data": {
      "image/png": "[encoded data removed]",
      "text/plain": [
       "<Figure size 2160x2160 with 2 Axes>"
      ]
     },
     "metadata": {
      "needs_background": "light"
     },
     "output_type": "display_data"
    },
    {
     "name": "stdout",
     "output_type": "stream",
     "text": [
      "Evaluating Logistic Regression...\n",
      "Classification Report for Logistic Regression:\n",
      "              precision    recall  f1-score   support\n",
      "\n",
      "   economics       1.00      1.00      1.00       253\n",
      "    football       1.00      1.00      1.00       240\n",
      "     history       0.98      0.98      0.98       267\n",
      "     science       0.98      0.98      0.98       251\n",
      "\n",
      "    accuracy                           0.99      1011\n",
      "   macro avg       0.99      0.99      0.99      1011\n",
      "weighted avg       0.99      0.99      0.99      1011\n",
      "\n",
      "Evaluating Random Forest...\n",
      "Classification Report for Random Forest:\n",
      "              precision    recall  f1-score   support\n",
      "\n",
      "   economics       1.00      1.00      1.00       253\n",
      "    football       1.00      1.00      1.00       240\n",
      "     history       0.98      0.94      0.96       267\n",
      "     science       0.94      0.98      0.96       251\n",
      "\n",
      "    accuracy                           0.98      1011\n",
      "   macro avg       0.98      0.98      0.98      1011\n",
      "weighted avg       0.98      0.98      0.98      1011\n",
      "\n"
     ]
    }
   ],
   "source": [
    "plt.figure(figsize=(30, 30))\n",
    "\n",
    "for model_name, result in results.items():\n",
    "    if model_name == 'Logistic Regression':\n",
    "        plt.subplot(2, 3, 1)\n",
    "        sns.lineplot(x=result['param_C'], y=result['mean_test_score'], marker='o', label=model_name)\n",
    "        plt.xscale('log')\n",
    "        plt.title('Logistic Regression')\n",
    "        plt.xlabel('C (Regularization)')\n",
    "        plt.ylabel('Mean Test Score')\n",
    "    \n",
    "    elif model_name == 'Random Forest':\n",
    "        plt.subplot(2, 3, 2)\n",
    "        sns.lineplot(x=result['param_n_estimators'], y=result['mean_test_score'], marker='o', label=model_name)\n",
    "        plt.title('Random Forest')\n",
    "        plt.xlabel('Number of Estimators')\n",
    "        plt.ylabel('Mean Test Score')\n",
    "    \n",
    "    elif model_name == 'SVM':\n",
    "        plt.subplot(2, 3, 3)\n",
    "        sns.lineplot(x=result['param_C'], y=result['mean_test_score'], marker='o', label=model_name)\n",
    "        plt.xscale('log')\n",
    "        plt.title('SVM')\n",
    "        plt.xlabel('C (Regularization)')\n",
    "        plt.ylabel('Mean Test Score')\n",
    "    elif model_name == 'KNeighbors':\n",
    "        plt.subplot(2, 3, 4)\n",
    "        sns.lineplot(x=result['param_n_neighbors'], y=result['mean_test_score'], marker='o', label=model_name)\n",
    "        plt.title('K-Neighbors')\n",
    "        plt.xlabel('Number of Neighbors')\n",
    "        plt.ylabel('Mean Test Score')\n",
    "    \n",
    "    elif model_name == 'Gradient Boosting':\n",
    "        plt.subplot(2, 3, 5)\n",
    "        sns.lineplot(x=result['param_n_estimators'], y=result['mean_test_score'], marker='o', label=model_name)\n",
    "        plt.title('Gradient Boosting')\n",
    "        plt.xlabel('Number of Estimators')\n",
    "        plt.ylabel('Mean Test Score')\n",
    "\n",
    "plt.tight_layout()\n",
    "plt.legend()\n",
    "plt.show()\n",
    "\n",
    "vgc = np.vectorize(get_category)\n",
    "\n",
    "for model_name, model in best_models.items():\n",
    "    print(f\"Evaluating {model_name}...\")\n",
    "    y_pred = model.predict(tf_test)\n",
    "    print(f\"Classification Report for {model_name}:\\n{classification_report(vgc(y_test), vgc(y_pred))}\")"
   ]
  },
  {
   "cell_type": "code",
   "execution_count": 135,
   "id": "fbb10b21",
   "metadata": {},
   "outputs": [
    {
     "data": {
      "text/plain": [
       "array([1, 0, 2, ..., 0, 1, 3])"
      ]
     },
     "execution_count": 135,
     "metadata": {},
     "output_type": "execute_result"
    }
   ],
   "source": [
    "y_test"
   ]
  },
  {
   "cell_type": "code",
   "execution_count": 141,
   "id": "a2ded314",
   "metadata": {},
   "outputs": [
    {
     "ename": "NotFittedError",
     "evalue": "This LogisticRegression instance is not fitted yet. Call 'fit' with appropriate arguments before using this estimator.",
     "output_type": "error",
     "traceback": [
      "\u001b[0;31m---------------------------------------------------------------------------\u001b[0m",
      "\u001b[0;31mNotFittedError\u001b[0m                            Traceback (most recent call last)",
      "\u001b[0;32m/tmp/ipykernel_25073/2259288428.py\u001b[0m in \u001b[0;36m<module>\u001b[0;34m\u001b[0m\n\u001b[1;32m     10\u001b[0m \u001b[0;34m\u001b[0m\u001b[0m\n\u001b[1;32m     11\u001b[0m \u001b[0;32mfor\u001b[0m \u001b[0mmodel_name\u001b[0m\u001b[0;34m,\u001b[0m \u001b[0mmodel\u001b[0m \u001b[0;32min\u001b[0m \u001b[0mmodels\u001b[0m\u001b[0;34m.\u001b[0m\u001b[0mitems\u001b[0m\u001b[0;34m(\u001b[0m\u001b[0;34m)\u001b[0m\u001b[0;34m:\u001b[0m\u001b[0;34m\u001b[0m\u001b[0;34m\u001b[0m\u001b[0m\n\u001b[0;32m---> 12\u001b[0;31m     \u001b[0my_pred\u001b[0m \u001b[0;34m=\u001b[0m \u001b[0mmodel\u001b[0m\u001b[0;34m.\u001b[0m\u001b[0mpredict\u001b[0m\u001b[0;34m(\u001b[0m\u001b[0mtf_test\u001b[0m\u001b[0;34m)\u001b[0m\u001b[0;34m\u001b[0m\u001b[0;34m\u001b[0m\u001b[0m\n\u001b[0m\u001b[1;32m     13\u001b[0m \u001b[0;34m\u001b[0m\u001b[0m\n\u001b[1;32m     14\u001b[0m     \u001b[0mcm\u001b[0m \u001b[0;34m=\u001b[0m \u001b[0mconfusion_matrix\u001b[0m\u001b[0;34m(\u001b[0m\u001b[0my_test\u001b[0m\u001b[0;34m,\u001b[0m \u001b[0my_pred\u001b[0m\u001b[0;34m)\u001b[0m\u001b[0;34m\u001b[0m\u001b[0;34m\u001b[0m\u001b[0m\n",
      "\u001b[0;32m/usr/local/lib/python3.10/dist-packages/sklearn/linear_model/_base.py\u001b[0m in \u001b[0;36mpredict\u001b[0;34m(self, X)\u001b[0m\n\u001b[1;32m    449\u001b[0m         \"\"\"\n\u001b[1;32m    450\u001b[0m         \u001b[0mxp\u001b[0m\u001b[0;34m,\u001b[0m \u001b[0m_\u001b[0m \u001b[0;34m=\u001b[0m \u001b[0mget_namespace\u001b[0m\u001b[0;34m(\u001b[0m\u001b[0mX\u001b[0m\u001b[0;34m)\u001b[0m\u001b[0;34m\u001b[0m\u001b[0;34m\u001b[0m\u001b[0m\n\u001b[0;32m--> 451\u001b[0;31m         \u001b[0mscores\u001b[0m \u001b[0;34m=\u001b[0m \u001b[0mself\u001b[0m\u001b[0;34m.\u001b[0m\u001b[0mdecision_function\u001b[0m\u001b[0;34m(\u001b[0m\u001b[0mX\u001b[0m\u001b[0;34m)\u001b[0m\u001b[0;34m\u001b[0m\u001b[0;34m\u001b[0m\u001b[0m\n\u001b[0m\u001b[1;32m    452\u001b[0m         \u001b[0;32mif\u001b[0m \u001b[0mlen\u001b[0m\u001b[0;34m(\u001b[0m\u001b[0mscores\u001b[0m\u001b[0;34m.\u001b[0m\u001b[0mshape\u001b[0m\u001b[0;34m)\u001b[0m \u001b[0;34m==\u001b[0m \u001b[0;36m1\u001b[0m\u001b[0;34m:\u001b[0m\u001b[0;34m\u001b[0m\u001b[0;34m\u001b[0m\u001b[0m\n\u001b[1;32m    453\u001b[0m             \u001b[0mindices\u001b[0m \u001b[0;34m=\u001b[0m \u001b[0mxp\u001b[0m\u001b[0;34m.\u001b[0m\u001b[0mastype\u001b[0m\u001b[0;34m(\u001b[0m\u001b[0mscores\u001b[0m \u001b[0;34m>\u001b[0m \u001b[0;36m0\u001b[0m\u001b[0;34m,\u001b[0m \u001b[0mint\u001b[0m\u001b[0;34m)\u001b[0m\u001b[0;34m\u001b[0m\u001b[0;34m\u001b[0m\u001b[0m\n",
      "\u001b[0;32m/usr/local/lib/python3.10/dist-packages/sklearn/linear_model/_base.py\u001b[0m in \u001b[0;36mdecision_function\u001b[0;34m(self, X)\u001b[0m\n\u001b[1;32m    427\u001b[0m             \u001b[0mthis\u001b[0m \u001b[0;32mclass\u001b[0m \u001b[0mwould\u001b[0m \u001b[0mbe\u001b[0m \u001b[0mpredicted\u001b[0m\u001b[0;34m.\u001b[0m\u001b[0;34m\u001b[0m\u001b[0;34m\u001b[0m\u001b[0m\n\u001b[1;32m    428\u001b[0m         \"\"\"\n\u001b[0;32m--> 429\u001b[0;31m         \u001b[0mcheck_is_fitted\u001b[0m\u001b[0;34m(\u001b[0m\u001b[0mself\u001b[0m\u001b[0;34m)\u001b[0m\u001b[0;34m\u001b[0m\u001b[0;34m\u001b[0m\u001b[0m\n\u001b[0m\u001b[1;32m    430\u001b[0m         \u001b[0mxp\u001b[0m\u001b[0;34m,\u001b[0m \u001b[0m_\u001b[0m \u001b[0;34m=\u001b[0m \u001b[0mget_namespace\u001b[0m\u001b[0;34m(\u001b[0m\u001b[0mX\u001b[0m\u001b[0;34m)\u001b[0m\u001b[0;34m\u001b[0m\u001b[0;34m\u001b[0m\u001b[0m\n\u001b[1;32m    431\u001b[0m \u001b[0;34m\u001b[0m\u001b[0m\n",
      "\u001b[0;32m/usr/local/lib/python3.10/dist-packages/sklearn/utils/validation.py\u001b[0m in \u001b[0;36mcheck_is_fitted\u001b[0;34m(estimator, attributes, msg, all_or_any)\u001b[0m\n\u001b[1;32m   1459\u001b[0m \u001b[0;34m\u001b[0m\u001b[0m\n\u001b[1;32m   1460\u001b[0m     \u001b[0;32mif\u001b[0m \u001b[0;32mnot\u001b[0m \u001b[0m_is_fitted\u001b[0m\u001b[0;34m(\u001b[0m\u001b[0mestimator\u001b[0m\u001b[0;34m,\u001b[0m \u001b[0mattributes\u001b[0m\u001b[0;34m,\u001b[0m \u001b[0mall_or_any\u001b[0m\u001b[0;34m)\u001b[0m\u001b[0;34m:\u001b[0m\u001b[0;34m\u001b[0m\u001b[0;34m\u001b[0m\u001b[0m\n\u001b[0;32m-> 1461\u001b[0;31m         \u001b[0;32mraise\u001b[0m \u001b[0mNotFittedError\u001b[0m\u001b[0;34m(\u001b[0m\u001b[0mmsg\u001b[0m \u001b[0;34m%\u001b[0m \u001b[0;34m{\u001b[0m\u001b[0;34m\"name\"\u001b[0m\u001b[0;34m:\u001b[0m \u001b[0mtype\u001b[0m\u001b[0;34m(\u001b[0m\u001b[0mestimator\u001b[0m\u001b[0;34m)\u001b[0m\u001b[0;34m.\u001b[0m\u001b[0m__name__\u001b[0m\u001b[0;34m}\u001b[0m\u001b[0;34m)\u001b[0m\u001b[0;34m\u001b[0m\u001b[0;34m\u001b[0m\u001b[0m\n\u001b[0m\u001b[1;32m   1462\u001b[0m \u001b[0;34m\u001b[0m\u001b[0m\n\u001b[1;32m   1463\u001b[0m \u001b[0;34m\u001b[0m\u001b[0m\n",
      "\u001b[0;31mNotFittedError\u001b[0m: This LogisticRegression instance is not fitted yet. Call 'fit' with appropriate arguments before using this estimator."
     ]
    },
    {
     "data": {
      "text/plain": [
       "<Figure size 1440x1080 with 0 Axes>"
      ]
     },
     "metadata": {},
     "output_type": "display_data"
    }
   ],
   "source": [
    "import pandas as pd\n",
    "import matplotlib.pyplot as plt\n",
    "import seaborn as sns\n",
    "from sklearn.metrics import confusion_matrix, ConfusionMatrixDisplay\n",
    "\n",
    "\n",
    "plt.figure(figsize=(20, 15))\n",
    "\n",
    "subplot_index = 1\n",
    "\n",
    "for model_name, model in models.items():\n",
    "    y_pred = model.predict(tf_test)\n",
    "    \n",
    "    cm = confusion_matrix(y_test, y_pred)\n",
    "    \n",
    "    plt.subplot(3, 2, subplot_index)\n",
    "    sns.heatmap(cm, annot=True, fmt='d', cmap='Blues', cbar=False,\n",
    "                xticklabels=np.unique(y_test), yticklabels=np.unique(y_test))\n",
    "    plt.title(f'Confusion Matrix for {model_name}')\n",
    "    plt.xlabel('Predicted Label')\n",
    "    plt.ylabel('True Label')\n",
    "    \n",
    "    subplot_index += 1\n",
    "\n",
    "plt.tight_layout()\n",
    "plt.show()"
   ]
  },
  {
   "cell_type": "code",
   "execution_count": null,
   "id": "b5e2b216",
   "metadata": {},
   "outputs": [],
   "source": []
  }
 ],
 "metadata": {
  "kernelspec": {
   "display_name": "Python 3 (ipykernel)",
   "language": "python",
   "name": "python3"
  },
  "language_info": {
   "codemirror_mode": {
    "name": "ipython",
    "version": 3
   },
   "file_extension": ".py",
   "mimetype": "text/x-python",
   "name": "python",
   "nbconvert_exporter": "python",
   "pygments_lexer": "ipython3",
   "version": "3.10.12"
  }
 },
 "nbformat": 4,
 "nbformat_minor": 5
}
